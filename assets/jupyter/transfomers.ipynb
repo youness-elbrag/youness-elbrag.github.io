{
 "cells": [
  {
   "cell_type": "markdown",
   "id": "0c55c81a",
   "metadata": {
    "papermill": {
     "duration": 0.012967,
     "end_time": "2023-05-05T21:03:25.147999",
     "exception": false,
     "start_time": "2023-05-05T21:03:25.135032",
     "status": "completed"
    },
    "tags": []
   },
   "source": [
    "<div style=\"background-color: #f5f5f5; padding: 10px; border-radius: 5px;\">\n",
    "    <div class=\"card mt-3\">\n",
    "        <div class=\"card-body\">\n",
    "            <h2 class=\"card-title text-center mb-4\">Re-implmentation of Paper <strong>Attention All you need</strong> </h2>\n",
    "            <p>In this section : we will code tow versions of self-Attention Numpy version and Torch Built Self-Attention. </p>\n",
    "            <p>Recently all the most State-of-The-Art model in NLP is based on <strong>Self-Attention Mechanism</strong> because is Powerfull neural network Architucture to learn in parallel and extarct important feartures from data that why Self-Attention is Data hungry is require hugh amount of data to learn from even it's comes with own limitation we will mention at the end of Notebook</p>\n",
    "            <div class=\"alert alert-warning\">\n",
    "                <p><strong>Reading:</strong> For more information about Self-Attention , please refer to the following paper: </p>\n",
    "                <ul>\n",
    "                    <li><a href=\"https://arxiv.org/abs/1706.03762\">Attention All you need Sequentail modeling Seq2Seq</a></li>\n",
    "                </ul>\n",
    "            </div>\n",
    "        </div>\n",
    "            </div>\n",
    "        </div>"
   ]
  },
  {
   "cell_type": "markdown",
   "id": "cfd0e89a",
   "metadata": {
    "papermill": {
     "duration": 0.011686,
     "end_time": "2023-05-05T21:03:25.171757",
     "exception": false,
     "start_time": "2023-05-05T21:03:25.160071",
     "status": "completed"
    },
    "tags": []
   },
   "source": [
    "<div style=\"background-color: #f5f5f5; padding: 10px; border-radius: 5px;\">\n",
    "    <div class=\"card mt-3\">\n",
    "        <div class=\"card-body\">\n",
    "            <h2 class=\"card-title text-center mb-4\">Self-Attention</h2>\n",
    "            <p>Self-Attention is a mechanism used in neural networks, particularly in the Transformer model, to capture the importance of different words in a sentence or sequence. The mathematical formula for Self-Attention is as follows:</p>\n",
    "            <center><img src=\"https://latex.codecogs.com/svg.image?\\text{Attention}(Q,K,V)&space;=&space;\\text{softmax}\\left(\\frac{QK^T}{\\sqrt{d_k}}\\right)V\" title=\"Attention(Q,K,V)=softmax(QKT/sqrt(d_k))V\" style=\"background-color:gray; padding: 10px; border-radius: 5px;\"/>\n",
    "</center>\n",
    "            <p>Where:</p>\n",
    "            <ul>\n",
    "                <li>$Q$ is the Query matrix</li>\n",
    "                <li>$K$ is the Key matrix</li>\n",
    "                <li>$V$ is the Value matrix</li>\n",
    "                <li>$d_k$ is the dimension of $K$ (or $Q$)</li>\n",
    "                <strong>Note:</strong><p>the Matrcies are learnble wieghts</p>\n",
    "            </ul>\n",
    "        </div>\n",
    "    </div>\n",
    "</div>"
   ]
  },
  {
   "cell_type": "code",
   "execution_count": 1,
   "id": "fc7d3422",
   "metadata": {
    "execution": {
     "iopub.execute_input": "2023-05-05T21:03:25.197339Z",
     "iopub.status.busy": "2023-05-05T21:03:25.196804Z",
     "iopub.status.idle": "2023-05-05T21:03:27.643320Z",
     "shell.execute_reply": "2023-05-05T21:03:27.642181Z"
    },
    "papermill": {
     "duration": 2.46289,
     "end_time": "2023-05-05T21:03:27.646291",
     "exception": false,
     "start_time": "2023-05-05T21:03:25.183401",
     "status": "completed"
    },
    "tags": []
   },
   "outputs": [],
   "source": [
    "import torch\n",
    "import numpy as np \n",
    "import torch.nn as nn \n",
    "import matplotlib.pyplot as plt \n",
    "from mpl_toolkits.axes_grid1 import make_axes_locatable\n",
    "import math"
   ]
  },
  {
   "cell_type": "markdown",
   "id": "0b1302d8",
   "metadata": {
    "papermill": {
     "duration": 0.011465,
     "end_time": "2023-05-05T21:03:27.672157",
     "exception": false,
     "start_time": "2023-05-05T21:03:27.660692",
     "status": "completed"
    },
    "tags": []
   },
   "source": [
    "<div style=\"background-color: #f5f5f5; padding: 10px; border-radius: 5px;\">\n",
    "    <div class=\"card mt-3\">\n",
    "        <div class=\"card-body\">\n",
    "            <h2 class=\"card-title text-center mb-4\">Self-Attention componentes</h2></br>\n",
    "            <strong>Notation : all the mentioned ideas here comes from this book called DL2 </strong>\n",
    "            <div class=\"alert alert-success\">\n",
    "                <p><strong>Reading:</strong> For more information about Self-Attention and mathematic , please refer to the following Book: </p>\n",
    "<ul>\n",
    "    <li><a href=\"https://d2l.ai/index.html2\">Dive into Deep Learning</a></li>\n",
    "                </ul>\n",
    "    </div>\n",
    "       <p>Self-Attention Mechanism (SAM) creete to imporve sequenctial modeling performence that solve recuccrent and long memory which was most limittaion comes over LTSM and RNN models and one of most archive by SAM is Parallel process of sequences we dived the this process by Query and Key and Value easise way to ullistat how does SAM works by taking for example Database search called <strong>look-up Table</strong>\n",
    "                <ul>\n",
    "                    <li>Query : is the SLQ commmand that goes into Database system to find any similar content</li>\n",
    "                    <li>Key :paly the role of what're you looking for such for Key==\"Deep learning Course\"</li>\n",
    "                    <li>Value : we can say is target content we want to have</li></ul><p> may ask yourself since that Query and Key and Value a have different means but the feed the same input of data ,here where's SAM comes to play around and find similarty between Q and K , V now let us first defined SAM formula in depth </p>\n",
    "       </div>\n",
    "    </div>\n",
    "    </div>\n"
   ]
  },
  {
   "cell_type": "markdown",
   "id": "173add29",
   "metadata": {
    "papermill": {
     "duration": 0.011078,
     "end_time": "2023-05-05T21:03:27.694377",
     "exception": false,
     "start_time": "2023-05-05T21:03:27.683299",
     "status": "completed"
    },
    "tags": []
   },
   "source": [
    "<div style=\"background-color: #f5f5f5; padding: 10px; border-radius: 5px;\">\n",
    "    <div class=\"card mt-3\">\n",
    "        <div class=\"card-body\">\n",
    "            <h2 class=\"card-title text-center mb-4\">Explain mechanism of Attention in Encoder Part</h2>\n",
    "            <ul><li>\n",
    "                <strong>Dot Product of Query Transpose and Key</strong><center>\n",
    "                Let us consider a sequence of $n$ embeddings $\\mathbf{E} = [\\mathbf{e_1}, \\mathbf{e_2}, \\ldots, \\mathbf{e_n}]$. \n",
    "                \n",
    "##### <strong>Step 1: intialize the learnbel wieghts matrices</br> Query, Key, Value</strong>\n",
    "                \n",
    "We create three linear projections of each embedding $\\mathbf{e_i}$ using three learned matrices $\\mathbf{W_Q}$, $\\mathbf{W_K}$, $\\mathbf{W_V}$:\n",
    "\\begin{align*}\n",
    "\\mathbf{Q_i} &= \\mathbf{W_Q} \\mathbf{e_i} \\\\\n",
    "\\mathbf{K_i} &= \\mathbf{W_K} \\mathbf{e_i} \\\\\n",
    "\\mathbf{V_i} &= \\mathbf{W_V} \\mathbf{e_i}\n",
    "\\end{align*}\n",
    "                \n",
    "These projections are called the **Query**, **Key**, and **Value** matrices, respectively.\n",
    "                <center><img src=\"https://wikidocs.net/images/page/178172/Fig_08_03.png\" width=\"500\" height=\"500\"/></center>\n",
    "        \n",
    "##### <strong>Step 2: Dot-Product Similarity</strong>\n",
    "\n",
    "We then compute the dot-product similarity between the Query ($\\mathbf{Q}$) and Key ($\\mathbf{K}$) matrices:\n",
    "\n",
    "\\begin{equation*}\n",
    "\\text{Similarity}(\\mathbf{Q}, \\mathbf{K}) = \\mathbf{Q} \\mathbf{K}^T\n",
    "\\end{equation*}\n",
    "\n",
    "This results in a square matrix of size $n \\times n$.</center>\n",
    "            <strong>Summary First Step</strong><p>the reason behind doing the dot product is to calculate the similarity between to Vectors in Eucldien Space which means tell us how much two vector are close to each but the output from Dot product not Scale that's why we need to averge the out weights matrix between 1 and 0</p>\n",
    "            </li>\n",
    "        <li>\n",
    "           <strong>Attention Scoring Functions</strong><center>       \n",
    "\\begin{equation*}\n",
    "\\mathbf{S} = \\text{softmax}(\\text{Similarity}(\\mathbf{Q}, \\mathbf{K})) = \\text{softmax}(\\mathbf{Q} \\mathbf{K}^T)\n",
    "\\end{equation*}\n",
    "\n",
    "The softmax function ensures that the weights for each Value are positive, and sum to 1.\n",
    "            <p><center><p>The dot product between both vectors has zero mean and a variance of . To ensure that the variance of the dot product still remains one regardless of vector length, we use the scaled dot-product attention scoring function. That is, we rescale the dot-product by . We thus arrive at the first commonly used attention function that is used, e.g. in Transformers</p><img src=\"https://d2l.ai/_images/attention-output.svg\" width=\"500\" height=\"500\"/></center></br>\n",
    "        <text>Fig.1: Computing the output of attention pooling as a weighted average of values, where weights are computed with the attention scoring function and the softmax operation.</text></p>\n",
    "          </center></li>\n",
    "          <li><strong>Final stage</strong><center>\n",
    "##### <strong>Weighted Sum</strong>\n",
    "\n",
    "We compute the weighted sum of the Value matrix using the Softmax weights:\n",
    "\n",
    "\\begin{equation*}\n",
    "\\text{Weighted Sum}(\\mathbf{V}, \\mathbf{S}) = \\mathbf{S} \\mathbf{V}\n",
    "\\end{equation*}\n",
    "\n",
    "This results in a matrix of size $n \\times d$, where $d$ is the number of features in each Value vector. \n",
    "\n",
    "##### <strong>Output</strong>\n",
    "\n",
    "We obtain the final output matrix by concatenating the Weighted Sum matrices computed for each embedding in the input sequence:\n",
    "\n",
    "\\begin{equation*}\n",
    "\\text{Output} = [\\text{Weighted Sum}(\\mathbf{V_1}, \\mathbf{S}), \\text{Weighted Sum}(\\mathbf{V_2}, \\mathbf{S}), \\ldots, \\text{Weighted Sum}(\\mathbf{V_n}, \\mathbf{S})]\n",
    "\\end{equation*}\n",
    "\n",
    "The Self-Attention mechanism can be summarized with the following formula:\n",
    "\n",
    "\\begin{equation*}\n",
    "\\text{Self-Attention}(\\mathbf{Q}, \\mathbf{K}, \\mathbf{V}) = \\text{softmax}\\left(\\frac{\\mathbf{Q} \\mathbf{K}^T}{\\sqrt{d_k}}\\right) \\mathbf{V}\n",
    "\\end{equation*}\n",
    "Where:</br>\n",
    "$\\mathbf{Q}$ is the Query weighted matrix</br>\n",
    "$\\mathbf{K}$ is the Key weighted  matrix</br>\n",
    "$\\mathbf{V}$ is the Value weighted matrix</br> following\n",
    "$d_k$ is the dimension of $\\mathbf{K}$ (or $\\mathbf{Q}$)\n",
    "    </center>\n",
    "</li></ul>\n",
    "</div>\n",
    "     </div>\n",
    "        </div>"
   ]
  },
  {
   "cell_type": "code",
   "execution_count": 2,
   "id": "6eebdc1f",
   "metadata": {
    "_kg_hide-input": false,
    "execution": {
     "iopub.execute_input": "2023-05-05T21:03:27.719015Z",
     "iopub.status.busy": "2023-05-05T21:03:27.718377Z",
     "iopub.status.idle": "2023-05-05T21:03:27.727910Z",
     "shell.execute_reply": "2023-05-05T21:03:27.726655Z"
    },
    "papermill": {
     "duration": 0.02394,
     "end_time": "2023-05-05T21:03:27.729982",
     "exception": false,
     "start_time": "2023-05-05T21:03:27.706042",
     "status": "completed"
    },
    "scrolled": true,
    "tags": []
   },
   "outputs": [],
   "source": [
    "def Softmax(z):\n",
    "    \"\"\"\n",
    "    descriptions function : Softmax is non-linear function that give the averege of between \n",
    "    0 and 1 of in element in matrix \n",
    "    \"\"\"\n",
    "    e_x = np.exp(z - z.max(axis=-1,keepdims=True))\n",
    "    return e_x / np.sum(e_x , axis=-1 ,keepdims=True)\n",
    "\n",
    "def Self_Attention(input_embedding ,WieghtMatrix_QKY, out_wieghts,mask=None,batch_first=True) :\n",
    "    \"\"\"\n",
    "    Self-Attention take input of emebeding matrix which asseccoite with \n",
    "    the Positional encoding ww will cover later in section \n",
    "    Query and Key and Value all of them have the same dimession as the input \n",
    "    \"\"\"\n",
    "    try : \n",
    "        if batch_first==True:\n",
    "            Query , Key , value = np.split(input_embedding@WieghtMatrix_QKY , 3 , axis=-1)\n",
    "            if mask is not None:\n",
    "                assert mask.shape[0] == input_embedding.shape[1],\\\n",
    "                    f\"input dimession of mask doesn't match with dimession of embedding input:{mask.shape[0]} {input_embedding.shape[0]}\"\n",
    "                Attention = Softmax(Key@Query.swapaxes(-1,-2) / np.sqrt(input_embedding.shape[-1]) + mask) \n",
    "                return  Attention@value@out_wieghts , Attention\n",
    "            else:\n",
    "                Attention = Softmax(Key@Query.swapaxes(-1,-2) / np.sqrt(input_embedding.shape[-1])) \n",
    "                return  Attention@value@out_wieghts , Attention\n",
    "    except:\n",
    "        raise Exception(\"Batch argumment is missing\")\n"
   ]
  },
  {
   "cell_type": "code",
   "execution_count": 3,
   "id": "adbc85d8",
   "metadata": {
    "execution": {
     "iopub.execute_input": "2023-05-05T21:03:27.753904Z",
     "iopub.status.busy": "2023-05-05T21:03:27.753032Z",
     "iopub.status.idle": "2023-05-05T21:03:27.900790Z",
     "shell.execute_reply": "2023-05-05T21:03:27.899905Z"
    },
    "papermill": {
     "duration": 0.162374,
     "end_time": "2023-05-05T21:03:27.903297",
     "exception": false,
     "start_time": "2023-05-05T21:03:27.740923",
     "status": "completed"
    },
    "tags": []
   },
   "outputs": [],
   "source": [
    "\"\"\"\n",
    "now let us compute Self-Attention using \n",
    "Torch Built Multi-Heads Self-Attention\n",
    "the reason we would to compare \n",
    "the out_wieghts matrix with out \n",
    "similar Attention out_projt_weight to use \n",
    "\"\"\"\n",
    "## intialize the input \n",
    "batch,lenght_sequnece , embedding_size = 1,100 , 64 \n",
    "number_heads = 1 \n",
    "# now we will stand out with single Attetion heads \n",
    "input_embedding = torch.randn(batch,lenght_sequnece, embedding_size)\n",
    "atten = nn.MultiheadAttention(embedding_size,1, bias = False,batch_first=True)\n",
    "## intialzie the Mask \n",
    "Mask = torch.triu(-float(\"inf\")*torch.ones(lenght_sequnece,lenght_sequnece),1)       \n",
    "out_weight_average , attention = atten(input_embedding,input_embedding,input_embedding,attn_mask=Mask)                  "
   ]
  },
  {
   "cell_type": "code",
   "execution_count": 4,
   "id": "726836c8",
   "metadata": {
    "execution": {
     "iopub.execute_input": "2023-05-05T21:03:27.928228Z",
     "iopub.status.busy": "2023-05-05T21:03:27.926559Z",
     "iopub.status.idle": "2023-05-05T21:03:27.932627Z",
     "shell.execute_reply": "2023-05-05T21:03:27.931619Z"
    },
    "papermill": {
     "duration": 0.020554,
     "end_time": "2023-05-05T21:03:27.935046",
     "exception": false,
     "start_time": "2023-05-05T21:03:27.914492",
     "status": "completed"
    },
    "tags": []
   },
   "outputs": [
    {
     "name": "stdout",
     "output_type": "stream",
     "text": [
      "the in_projecion weights: torch.Size([192, 64])\n",
      "The out_projetction weights: torch.Size([64, 64])\n"
     ]
    }
   ],
   "source": [
    "### intialize the in_projecion weights and out_projetction weights\n",
    "print(f\"the in_projecion weights: {atten.in_proj_weight.shape}\\nThe out_projetction weights: {atten.out_proj.weight.shape}\")"
   ]
  },
  {
   "cell_type": "code",
   "execution_count": 5,
   "id": "d9bac693",
   "metadata": {
    "execution": {
     "iopub.execute_input": "2023-05-05T21:03:27.958687Z",
     "iopub.status.busy": "2023-05-05T21:03:27.958407Z",
     "iopub.status.idle": "2023-05-05T21:03:27.970637Z",
     "shell.execute_reply": "2023-05-05T21:03:27.969370Z"
    },
    "papermill": {
     "duration": 0.02756,
     "end_time": "2023-05-05T21:03:27.973942",
     "exception": false,
     "start_time": "2023-05-05T21:03:27.946382",
     "status": "completed"
    },
    "tags": []
   },
   "outputs": [],
   "source": [
    "WieghtMatrix_QKV = atten.in_proj_weight\n",
    "out_Wieghts = atten.out_proj.weight\n",
    "out_wieghts_Averege , atten = Self_Attention(input_embedding.numpy(),\n",
    "                                     WieghtMatrix_QKV.detach().numpy().T,\n",
    "                                     out_Wieghts.detach().numpy().T,  \n",
    "                                     mask=None,batch_first=True)"
   ]
  },
  {
   "cell_type": "markdown",
   "id": "5137db94",
   "metadata": {
    "papermill": {
     "duration": 0.029166,
     "end_time": "2023-05-05T21:03:28.032497",
     "exception": false,
     "start_time": "2023-05-05T21:03:28.003331",
     "status": "completed"
    },
    "tags": []
   },
   "source": [
    "<div style=\"background-color: #f5f5f5; padding: 10px; border-radius: 5px;\">\n",
    "    <div class=\"card mt-3\">\n",
    "        <div class=\"card-body\">\n",
    "            <h2 class=\"card-title text-center mb-4\">Simulation of Self-Attention Learning at Stage Encoder Part</h2>\n",
    "            <center><img src=\"https://wikidocs.net/images/page/178172/Fig_08_02_encoder_self_attention.gif\" width=\"500\" height=\"500\"/></center>\n",
    "    <div style=\"font-size: 14px;\">This image shows a simulation of the Self-Attention mechanism at the Encoder stage of a Transformer model. Each of the input embeddings (represented by the colored squares) attends to all the other embeddings, and produces a weighted sum of the Value embeddings (represented by the circles). This process is repeated for each of the Encoder layers, and the final output is passed on to the Decoder stage.</div>\n",
    "</div>\n",
    "   </div>\n",
    "    </div>\n"
   ]
  },
  {
   "cell_type": "code",
   "execution_count": 6,
   "id": "fc2ac99d",
   "metadata": {
    "execution": {
     "iopub.execute_input": "2023-05-05T21:03:28.092768Z",
     "iopub.status.busy": "2023-05-05T21:03:28.092485Z",
     "iopub.status.idle": "2023-05-05T21:03:28.455111Z",
     "shell.execute_reply": "2023-05-05T21:03:28.454046Z"
    },
    "papermill": {
     "duration": 0.395771,
     "end_time": "2023-05-05T21:03:28.457563",
     "exception": false,
     "start_time": "2023-05-05T21:03:28.061792",
     "status": "completed"
    },
    "tags": []
   },
   "outputs": [
    {
     "data": {
      "image/png": "[encoded data removed]",
      "text/plain": [
       "<Figure size 600x600 with 2 Axes>"
      ]
     },
     "metadata": {},
     "output_type": "display_data"
    }
   ],
   "source": [
    "fig , axe = plt.subplots(1 , 1 , figsize=(6,6))\n",
    "axe.set_title(\"the Matrix Similarty of Attention Score function \")\n",
    "axe.set_xlabel(\"Key\")\n",
    "axe.set_ylabel(\"Query\")\n",
    "im =axe.imshow(atten[0][:20,:20], cmap=\"hot\",interpolation=\"nearest\")\n",
    "divider = make_axes_locatable(axe)\n",
    "cax = divider.append_axes(\"right\", size=\"4%\", pad=0.2)\n",
    "cbar = plt.colorbar(im, cax=cax)\n",
    "fig.canvas.draw()\n",
    "fig.suptitle(\"Similarty Matrix Across Dot Product Encoder\")\n",
    "\n",
    "plt.show()\n"
   ]
  },
  {
   "cell_type": "markdown",
   "id": "2132b1a9",
   "metadata": {
    "papermill": {
     "duration": 0.011518,
     "end_time": "2023-05-05T21:03:28.481298",
     "exception": false,
     "start_time": "2023-05-05T21:03:28.469780",
     "status": "completed"
    },
    "tags": []
   },
   "source": [
    "<div style=\"background-color: #f5f5f5; padding: 10px; border-radius: 5px;\">\n",
    "    <div class=\"card mt-3\">\n",
    "        <div class=\"card-body\">\n",
    "            <h2 class=\"card-title text-center mb-4\">Explain mechanism of Mask-Self-Attention in Decoder Part</h2>\n",
    "            <p>here only diffrent between prevouis Self-Attention is that Self-attention in decoders is slightly different than in encoders. The encoder receives all the tokens at once and the tokens can see all the tokens in the input sentence, but the decoder generates one token at a time. During creation, you don't know which tokens you will create in the future.\n",
    "\n",
    "To prevent the decoder from looking ahead, the model uses masked self-attention. Future tokens are masked.</p>\n",
    "          <li><strong>Final stage</strong><center>\n",
    " ##### Softmax with Mask\n",
    "              \n",
    "We apply a softmax function to the Similarity matrix after adding the mask matrix:\n",
    "\n",
    "\\begin{equation*}\n",
    "\\mathbf{S} = \\text{softmax}(\\text{Similarity}(\\mathbf{Q}, \\mathbf{K}) + \\mathbf{M}) = \\text{softmax}\\left(\\frac{\\mathbf{Q} \\mathbf{K}^T}{\\sqrt{d_k}} + \\mathbf{M}\\right)\n",
    "\\end{equation*}\n",
    "\n",
    "Here, $\\mathbf{M}$ is a mask matrix that prevents the decoder from \"looking ahead\" in the sequence during training. It has the same dimensions as the Similarity matrix and is typically a lower-triangular matrix.\n",
    "\n",
    "This modified Self-Attention mechanism formula can be summarized as follows:\n",
    "\n",
    "\\begin{equation*}\n",
    "\\text{Self-Attention}(\\mathbf{Q}, \\mathbf{K}, \\mathbf{V}, \\mathbf{M}) = \\text{softmax}\\left(\\frac{\\mathbf{Q} \\mathbf{K}^T}{\\sqrt{d_k}} + \\mathbf{M}\\right) \\mathbf{V}\n",
    "\\end{equation*}\n",
    "\n",
    "where $\\mathbf{Q}$, $\\mathbf{K}$, and $\\mathbf{V}$ are the Query, Key, and Value matrices, respectively, and $d_k$ is the dimensionality of the Key matrix.</br>\n",
    "   </center></li></ul>\n",
    "  </div>\n",
    "    </div>\n",
    "    </div>\n",
    "    "
   ]
  },
  {
   "cell_type": "code",
   "execution_count": 7,
   "id": "1fcd7835",
   "metadata": {
    "execution": {
     "iopub.execute_input": "2023-05-05T21:03:28.506677Z",
     "iopub.status.busy": "2023-05-05T21:03:28.505839Z",
     "iopub.status.idle": "2023-05-05T21:03:28.513160Z",
     "shell.execute_reply": "2023-05-05T21:03:28.511905Z"
    },
    "papermill": {
     "duration": 0.02348,
     "end_time": "2023-05-05T21:03:28.516544",
     "exception": false,
     "start_time": "2023-05-05T21:03:28.493064",
     "status": "completed"
    },
    "tags": []
   },
   "outputs": [],
   "source": [
    "out_wieghts_Averege , atten = Self_Attention(input_embedding.numpy(),\n",
    "                                     WieghtMatrix_QKV.detach().numpy().T,\n",
    "                                     out_Wieghts.detach().numpy().T,  \n",
    "                                     mask=Mask.numpy(),batch_first=True)\n",
    "                                     \n",
    "                                   "
   ]
  },
  {
   "cell_type": "markdown",
   "id": "7c4062e3",
   "metadata": {
    "papermill": {
     "duration": 0.03111,
     "end_time": "2023-05-05T21:03:28.578632",
     "exception": false,
     "start_time": "2023-05-05T21:03:28.547522",
     "status": "completed"
    },
    "tags": []
   },
   "source": [
    "<div style=\"background-color: #f5f5f5; padding: 10px; border-radius: 5px;\">\n",
    "    <div class=\"card mt-3\">\n",
    "        <div class=\"card-body\">\n",
    "            <h2 class=\"card-title text-center mb-4\">Simulation of Masked-Attention Learning at Stage Decoder Part</h2>\n",
    "            <center><img src=\"https://wikidocs.net/images/page/178172/Fig_08_05_masked_self_attn.gif\" width=\"400\" height=\"200\"/></center>\n",
    "    <div style=\"font-size: 14px;\"> A simulation of Masked Self-Attention mechanism used in the Decoder stage of a Transformer model. The mechanism prevents the model from \"looking ahead\" in the sequence during training, ensuring that it only generates output tokens based on previously generated tokens..</div>\n",
    "</div>\n",
    "  </div>\n",
    "    </div>\n"
   ]
  },
  {
   "cell_type": "code",
   "execution_count": 8,
   "id": "85d97d7a",
   "metadata": {
    "execution": {
     "iopub.execute_input": "2023-05-05T21:03:28.641830Z",
     "iopub.status.busy": "2023-05-05T21:03:28.641330Z",
     "iopub.status.idle": "2023-05-05T21:03:28.974159Z",
     "shell.execute_reply": "2023-05-05T21:03:28.973087Z"
    },
    "papermill": {
     "duration": 0.367056,
     "end_time": "2023-05-05T21:03:28.976540",
     "exception": false,
     "start_time": "2023-05-05T21:03:28.609484",
     "status": "completed"
    },
    "tags": []
   },
   "outputs": [
    {
     "data": {
      "image/png": "[encoded data removed]",
      "text/plain": [
       "<Figure size 600x600 with 2 Axes>"
      ]
     },
     "metadata": {},
     "output_type": "display_data"
    }
   ],
   "source": [
    "fig , axe = plt.subplots(1 , 1 , figsize=(6,6))\n",
    "axe.set_title(\"the Matrix Similarty of Attention Score function with Mask \")\n",
    "axe.set_xlabel(\"Key\")\n",
    "axe.set_ylabel(\"Query\")\n",
    "im =axe.imshow(atten[0][:20,:20], cmap=\"hot\",interpolation=\"nearest\")\n",
    "divider = make_axes_locatable(axe)\n",
    "cax = divider.append_axes(\"right\", size=\"4%\", pad=0.2)\n",
    "cbar = plt.colorbar(im, cax=cax)\n",
    "fig.canvas.draw()\n",
    "fig.suptitle(\"Similarty Matrix Across Dot Product Decoder\")\n",
    "\n",
    "plt.show()\n"
   ]
  },
  {
   "cell_type": "markdown",
   "id": "a5cb3ff2",
   "metadata": {
    "papermill": {
     "duration": 0.011989,
     "end_time": "2023-05-05T21:03:29.001546",
     "exception": false,
     "start_time": "2023-05-05T21:03:28.989557",
     "status": "completed"
    },
    "tags": []
   },
   "source": [
    "<div style=\"background-color: #f5f5f5; padding: 10px; border-radius: 5px;\">\n",
    "    <div class=\"card mt-3\">\n",
    "        <div class=\"card-body\">\n",
    "            <h2 class=\"card-title text-center mb-4\">Multi-Heads Self-Attention</h2>\n",
    "            <p>In the Transformer, the Attention module repeats its computations multiple times in parallel. Each of these is called an Attention Head. The Attention module splits its Query, Key, and Value parameters N-ways and passes each split independently through a separate Head. All of these similar Attention calculations are then combined together to produce a final Attention score. This is called Multi-head attention and gives the Transformer greater power to encode multiple relationships and nuances for each word.:</p>\n",
    "            <center><img src=\"https://data-science-blog.com/wp-content/uploads/2022/01/mha_img_original.png\" title=\"Attention(Q,K,V)=softmax(QKT/sqrt(d_k))V\" style=\"background-color:gray; padding: 10px; border-radius: 5px;\" width=\"400\" height=\"200\"/>\n",
    "</center>\n",
    "            <center>\n",
    "                <p>So we need to make the model focus on something else. This is the motivation behind Multi-Head Attention. Instead of using one attention mechanism, multi-head attention has multiple “heads” that work independently</p>\n",
    "                <img src=\"https://miro.medium.com/v2/resize:fit:786/0*X0c962yMhgRKfMTD.gif\" width=\"400\" height=\"200\" title=\"Attention(Q,K,V)=softmax(QKT/sqrt(d_k))V\" style=\"background-color:gray; padding: 10px; border-radius: 5px;\"/>\n",
    "            </center>\n",
    "        </div>\n",
    "    </div>\n",
    "</div>"
   ]
  },
  {
   "cell_type": "markdown",
   "id": "3bbc94d2",
   "metadata": {
    "papermill": {
     "duration": 0.01226,
     "end_time": "2023-05-05T21:03:29.026255",
     "exception": false,
     "start_time": "2023-05-05T21:03:29.013995",
     "status": "completed"
    },
    "tags": []
   },
   "source": [
    "<div style=\"background-color: #f5f5f5; padding: 10px; border-radius: 5px;\">\n",
    "    <div class=\"card mt-3\">\n",
    "        <div class=\"card-body\">\n",
    "            <h2 class=\"card-title text-center mb-4\">Multi-Heads Self-Attention mathematic proof</h2>\n",
    "            <center>\n",
    "                <img src=\"https://wikidocs.net/images/page/178172/Fig_08_06_multi_head.gif\" width=\"400\" height=\"200\" title=\"Attention(Q,K,V)=softmax(QKT/sqrt(d_k))V\" style=\"background-color:gray; padding: 10px; border-radius: 5px;\"/>\n",
    "                <p>this is implemented as several attention mechanisms whose outcomes are combined.\n",
    "The implementation simply splits the queries, keys, and values ​​it computes into parts for single-head attention. In this way, models with one or more attention heads are the same size. Multi-head attention does not increase model size.</p>\n",
    "            </center>   \n",
    "            <strong>Proof : </strong>\n",
    "<p>Let $\\mathbf{E} = [\\mathbf{e_1}, \\mathbf{e_2}, \\ldots, \\mathbf{e_n}]$ be a sequence of $n$ embeddings.</p>\n",
    "    <p>We create $h$ sets of learnable projection matrices $\\mathbf{W_Q^h}$, $\\mathbf{W_K^h}$, and $\\mathbf{W_V^h}$, where $h$ is the number of attention heads.</p>\n",
    "    <p>For each head $h$, we compute the Query ($\\mathbf{Q^h}$), Key ($\\mathbf{K^h}$), and Value ($\\mathbf{V^h}$) matrices as follows:</p>\n",
    "    <ul>\n",
    "        <li>$\\mathbf{Q_i^h} = \\mathbf{W_Q^h} \\mathbf{e_i}$</li>\n",
    "        <li>$\\mathbf{K_i^h} = \\mathbf{W_K^h} \\mathbf{e_i}$</li>\n",
    "        <li>$\\mathbf{V_i^h} = \\mathbf{W_V^h} \\mathbf{e_i}$</li>\n",
    "    </ul>\n",
    "<p>We then compute the dot-product similarity between the Query and Key matrices:</p>\n",
    "<p>$$\\text{Similarity}(\\mathbf{Q^h}, \\mathbf{K^h}) = \\frac{\\mathbf{Q^h} \\mathbf{K^h}^T}{\\sqrt{d_k}}$$</code></pre>\n",
    "    <p>where $d_k$ is the dimension of the Key matrix.</p>\n",
    "    <p>We apply a softmax function to the Similarity matrix:</p>\n",
    "    <p>$$\\mathbf{S^h} = \\text{softmax}(\\text{Similarity}(\\mathbf{Q^h}, \\mathbf{K^h})) = \\text{softmax}(\\frac{\\mathbf{Q^h} \\mathbf{K^h}^T}{\\sqrt{d_k}})$$</code></pre>\n",
    "    <p>We compute the weighted sum of the Value matrix using the Softmax weights:</p>\n",
    "    <p>$$\\text{Weighted Sum}(\\mathbf{V^h}, \\mathbf{S^h}) = \\mathbf{S^h} \\mathbf{V^h}$$</code></pre>\n",
    "    <p>We concatenate the output matrices from all heads together:</p>\n",
    "    <p>$$\\text{Output} = [\\text{Weighted Sum}(\\mathbf{V^1}, \\mathbf{S^1}), \\text{Weighted Sum}(\\mathbf{V^2}, \\mathbf{S^2}), \\ldots, \\text{Weighted Sum}(\\mathbf{V^h}, \\mathbf{S^h})]$$</code></pre>\n",
    "    <p>This results in a matrix of size $n \\times d_v h$, where $d_v$ is the number of features in each Value vector.</p>\n",
    "         </div>\n",
    "    </div>\n",
    "</div>\n",
    "            "
   ]
  },
  {
   "cell_type": "code",
   "execution_count": 9,
   "id": "329f3063",
   "metadata": {
    "execution": {
     "iopub.execute_input": "2023-05-05T21:03:29.052811Z",
     "iopub.status.busy": "2023-05-05T21:03:29.051931Z",
     "iopub.status.idle": "2023-05-05T21:03:29.060500Z",
     "shell.execute_reply": "2023-05-05T21:03:29.059558Z"
    },
    "papermill": {
     "duration": 0.024094,
     "end_time": "2023-05-05T21:03:29.062572",
     "exception": false,
     "start_time": "2023-05-05T21:03:29.038478",
     "status": "completed"
    },
    "tags": []
   },
   "outputs": [],
   "source": [
    "# in here all what we dissccu stay the same only\n",
    "# we split the input emdebbing in to multi-dim of each Q , K . Y \n",
    "# because the Attention have the poeweful compute in Parallel manner \n",
    "\n",
    "def multiHeads_Attention(input_embedding ,wieghtsMatrix_QKY , heads ,out_Wieght , mask=None):\n",
    "    B , seq_len , embed_size = input_embedding.shape\n",
    "    # we have dim input of B . seq_len , \n",
    "    # embed_size ==> B, seq_len , embed_size/ heads \n",
    "    #=> Swape axis into [batch , heads , seq_len , embe_size / heads ]\n",
    "    Query , Key, Value = np.split(input_embedding@wieghtsMatrix_QKY,3, axis=-1)\n",
    "    Query , Key, Value = [a.reshape(B , seq_len ,heads , (embed_size // heads)).swapaxes(1,2) for a in (Query , Key, Value)]\n",
    "    if mask is not None:\n",
    "        atten = Softmax(Key@Query.swapaxes(-1,-2) / np.sqrt(embed_size // heads) + mask ) \n",
    "        return (atten@Value).swapaxes(1,2).reshape(B , seq_len , embed_size)@out_Wieght , atten\n",
    "    else:\n",
    "        atten = Softmax(Key@Query.swapaxes(-1,-2) / np.sqrt(embed_size // heads)) \n",
    "        return (atten@Value).swapaxes(1,2).reshape(B , seq_len , embed_size)@out_Wieght , atten"
   ]
  },
  {
   "cell_type": "code",
   "execution_count": 10,
   "id": "666a01a7",
   "metadata": {
    "execution": {
     "iopub.execute_input": "2023-05-05T21:03:29.088902Z",
     "iopub.status.busy": "2023-05-05T21:03:29.088625Z",
     "iopub.status.idle": "2023-05-05T21:03:29.099597Z",
     "shell.execute_reply": "2023-05-05T21:03:29.098723Z"
    },
    "papermill": {
     "duration": 0.026867,
     "end_time": "2023-05-05T21:03:29.101662",
     "exception": false,
     "start_time": "2023-05-05T21:03:29.074795",
     "status": "completed"
    },
    "tags": []
   },
   "outputs": [],
   "source": [
    "## intialize the input \n",
    "batch,lenght_sequnece , embedding_size = 1,100 , 64 \n",
    "number_heads = 2\n",
    "# now we will stand out with single Attetion heads \n",
    "input_embedding = torch.randn(batch,lenght_sequnece, embedding_size)\n",
    "atten = nn.MultiheadAttention(embedding_size,number_heads, bias = False,batch_first=True)\n",
    "## intialzie the Mask \n",
    "Mask = torch.triu(-float(\"inf\")*torch.ones(lenght_sequnece,lenght_sequnece),1)       \n",
    "out_weight_average , attention = atten(input_embedding,input_embedding,input_embedding,attn_mask=Mask)                  "
   ]
  },
  {
   "cell_type": "code",
   "execution_count": 11,
   "id": "9862746b",
   "metadata": {
    "execution": {
     "iopub.execute_input": "2023-05-05T21:03:29.129076Z",
     "iopub.status.busy": "2023-05-05T21:03:29.128623Z",
     "iopub.status.idle": "2023-05-05T21:03:29.137336Z",
     "shell.execute_reply": "2023-05-05T21:03:29.135891Z"
    },
    "papermill": {
     "duration": 0.025518,
     "end_time": "2023-05-05T21:03:29.140001",
     "exception": false,
     "start_time": "2023-05-05T21:03:29.114483",
     "status": "completed"
    },
    "tags": []
   },
   "outputs": [],
   "source": [
    "## Our Multi-Heads Attention \n",
    "WieghtMatrix = atten.in_proj_weight\n",
    "out_Wieght = atten.out_proj.weight\n",
    "out_wieghts_Averege , atten = multiHeads_Attention(input_embedding.numpy(),\n",
    "                                     WieghtMatrix.detach().numpy().T,\n",
    "                                     number_heads,\n",
    "                                     out_Wieght.detach().numpy().T,  \n",
    "                                     mask=Mask.numpy())\n",
    "                                     "
   ]
  },
  {
   "cell_type": "markdown",
   "id": "ac48fbe8",
   "metadata": {
    "papermill": {
     "duration": 0.032244,
     "end_time": "2023-05-05T21:03:29.206942",
     "exception": false,
     "start_time": "2023-05-05T21:03:29.174698",
     "status": "completed"
    },
    "tags": []
   },
   "source": [
    "<div style=\"background-color: #f5f5f5; padding: 10px; border-radius: 5px;\">\n",
    "    <div class=\"card mt-3\">\n",
    "        <div class=\"card-body\">\n",
    "            <h2 class=\"card-title text-center mb-4\">Transfomers</h2>\n",
    "            <p>Now that you understand the main model components and the general idea, let's take a look at the full model.Intuitively, the model is exactly what we discussed before. In the encoder, the tokens communicate with each other and update their representation. In the decoder, the target token first looks at the previously generated target token, then the source, and finally updates its representation. This happens in multiple layers, usually 6.\n",
    "\n",
    "Let's take a closer look at the other model components. :</p>\n",
    "            <center><img src=\"https://wikidocs.net/images/page/178172/Fig_09_01.png\" title=\"Attention(Q,K,V)=softmax(QKT/sqrt(d_k))V\" style=\"background-color:gray; padding: 10px; border-radius: 5px;\"/>\n",
    "            </center>\n",
    "            <strong>Notation : </strong><p> in Next section we will cover other building blocks componemts in TRANSFIMERS</p>\n",
    "        </div>\n",
    "    </div>\n",
    "</div>"
   ]
  },
  {
   "cell_type": "markdown",
   "id": "5ac82c6a",
   "metadata": {
    "papermill": {
     "duration": 0.030011,
     "end_time": "2023-05-05T21:03:29.270036",
     "exception": false,
     "start_time": "2023-05-05T21:03:29.240025",
     "status": "completed"
    },
    "tags": []
   },
   "source": [
    "<div style=\"background-color: #f5f5f5; padding: 10px; border-radius: 5px;\">\n",
    "    <div class=\"card mt-3\">\n",
    "        <div class=\"card-body\">\n",
    "            <h2 class=\"card-title text-center mb-4\">Token Embedding</h2>\n",
    "            <p>to train the Transfomer model we need to convert the input of word in to vector representation embedding which is BERT model </p>\n",
    "        </div>\n",
    "    </div>\n",
    "</div>"
   ]
  },
  {
   "cell_type": "code",
   "execution_count": 12,
   "id": "0415de6c",
   "metadata": {
    "execution": {
     "iopub.execute_input": "2023-05-05T21:03:29.296056Z",
     "iopub.status.busy": "2023-05-05T21:03:29.295767Z",
     "iopub.status.idle": "2023-05-05T21:03:29.301578Z",
     "shell.execute_reply": "2023-05-05T21:03:29.300532Z"
    },
    "papermill": {
     "duration": 0.021435,
     "end_time": "2023-05-05T21:03:29.303799",
     "exception": false,
     "start_time": "2023-05-05T21:03:29.282364",
     "status": "completed"
    },
    "tags": []
   },
   "outputs": [],
   "source": [
    "class Embedding(nn.Module):\n",
    "    def __init__(self , seq_len , embed_size):\n",
    "        super(Embedding,self).__init__()\n",
    "        \"\"\"\n",
    "        Args:\n",
    "            vocab_size: size of vocabulary\n",
    "            embed_dim: dimension of embeddings\n",
    "        \"\"\"\n",
    "        self.embedding = nn.Embedding(seq_len , embed_size)\n",
    "    def forward(self,x):\n",
    "        \"\"\"\n",
    "        Args:\n",
    "            x: input vector\n",
    "        Returns:\n",
    "            out: embedding vector\n",
    "        \"\"\"\n",
    "        embed = self.embedding(x)\n",
    "        return embed"
   ]
  },
  {
   "cell_type": "markdown",
   "id": "ab6f8a69",
   "metadata": {
    "papermill": {
     "duration": 0.013272,
     "end_time": "2023-05-05T21:03:29.329365",
     "exception": false,
     "start_time": "2023-05-05T21:03:29.316093",
     "status": "completed"
    },
    "tags": []
   },
   "source": [
    "<div style=\"background-color: #f5f5f5; padding: 10px; border-radius: 5px;\">\n",
    "    <div class=\"card mt-3\">\n",
    "        <div class=\"card-body\">\n",
    "            <h2 class=\"card-title text-center mb-4\">Positional embedding</h2>\n",
    "            <p>Transformers do not involve recurrence or convolution, so they do not know the order of the input tokens. Therefore, we need to explicitly tell the model where the token is. There are two sets of embeddings for this. These are tokens (as we always have) and positions (new embeddings needed for this model). Then the input representation of the token is the sum of its two embeddings: the token and the position.\n",
    "                \n",
    "Unlike RNNs, which recurrently process tokens of a sequence one by one, self-attention ditches sequential operations in favor of parallel computation. Note, however, that self-attention by itself does not preserve the order of the sequence. What do we do if it really matters that the model knows in which order the input sequence arrived?</p>\n",
    "            <center><img src=\"https://wikidocs.net/images/page/178172/Fig_09_05.png\" title=\"Attention(Q,K,V)=softmax(QKT/sqrt(d_k))V\" style=\"background-color:gray; padding: 10px; border-radius: 5px;\" width=\"400\" height=\"200\"/>\n",
    "                <p></p>\n",
    "</center>\n",
    "            <center>\n",
    "                <p>Positional embeddings can be trained, but the authors of the paper found that fixed embeddings did not affect quality. The fixed positional encodings used by Transformer are: \\begin{split}\\begin{aligned} p_{i, 2j} &= \\sin\\left(\\frac{i}{10000^{2j/d}}\\right),\\\\p_{i, 2j+1} &= \\cos\\left(\\frac{i}{10000^{2j/d}}\\right).\\end{aligned}\\end{split}</p>\n",
    "            </center>\n",
    "        </div>\n",
    "    </div>\n",
    "</div>"
   ]
  },
  {
   "cell_type": "code",
   "execution_count": 13,
   "id": "1fbd8d1c",
   "metadata": {
    "execution": {
     "iopub.execute_input": "2023-05-05T21:03:29.357414Z",
     "iopub.status.busy": "2023-05-05T21:03:29.356564Z",
     "iopub.status.idle": "2023-05-05T21:03:29.366044Z",
     "shell.execute_reply": "2023-05-05T21:03:29.365063Z"
    },
    "papermill": {
     "duration": 0.025737,
     "end_time": "2023-05-05T21:03:29.368352",
     "exception": false,
     "start_time": "2023-05-05T21:03:29.342615",
     "status": "completed"
    },
    "tags": []
   },
   "outputs": [],
   "source": [
    "class PositionalEncoding(nn.Module):\n",
    "    \"\"\"\n",
    "    compute sinusoid encoding.\n",
    "    \"\"\"\n",
    "    def __init__(self, d_model, max_len, device):\n",
    "        \"\"\"\n",
    "        constructor of sinusoid encoding class\n",
    "\n",
    "        :param d_model: dimension of model\n",
    "        :param max_len: max sequence length\n",
    "        :param device: hardware device setting\n",
    "        \"\"\"\n",
    "        super(PositionalEncoding, self).__init__()\n",
    "\n",
    "        # same size with input matrix (for adding with input matrix)\n",
    "        self.encoding = torch.zeros(max_len, d_model, device=device)\n",
    "        self.encoding.requires_grad = False  # we don't need to compute gradient\n",
    "\n",
    "        pos = torch.arange(0, max_len, device=device)\n",
    "        pos = pos.float().unsqueeze(dim=1)\n",
    "        # 1D => 2D unsqueeze to represent word's position\n",
    "\n",
    "        _2i = torch.arange(0, d_model, step=2, device=device).float()\n",
    "        # 'i' means index of d_model (e.g. embedding size = 50, 'i' = [0,50])\n",
    "        # \"step=2\" means 'i' multiplied with two (same with 2 * i)\n",
    "\n",
    "        self.encoding[:, 0::2] = torch.sin(pos / (10000 ** (_2i / d_model)))\n",
    "        self.encoding[:, 1::2] = torch.cos(pos / (10000 ** (_2i / d_model)))\n",
    "        # compute positional encoding to consider positional information of words\n",
    "\n",
    "    def forward(self, x):\n",
    "        # self.encoding\n",
    "        # [max_len = 512, d_model = 512]\n",
    "\n",
    "        batch_size, seq_len = x.size()\n",
    "        # [batch_size = 128, seq_len = 30]\n",
    "\n",
    "        return self.encoding[:seq_len, :]\n",
    "        # [seq_len = 30, d_model = 512]\n",
    "        # it will add with tok_emb : [128, 30, 512]         "
   ]
  },
  {
   "cell_type": "code",
   "execution_count": 14,
   "id": "2eb426f2",
   "metadata": {
    "execution": {
     "iopub.execute_input": "2023-05-05T21:03:29.394397Z",
     "iopub.status.busy": "2023-05-05T21:03:29.394074Z",
     "iopub.status.idle": "2023-05-05T21:03:29.417295Z",
     "shell.execute_reply": "2023-05-05T21:03:29.416282Z"
    },
    "papermill": {
     "duration": 0.038928,
     "end_time": "2023-05-05T21:03:29.419495",
     "exception": false,
     "start_time": "2023-05-05T21:03:29.380567",
     "status": "completed"
    },
    "tags": []
   },
   "outputs": [],
   "source": [
    "## intialize the input \n",
    "batch , max_len , encoding_dim = 1,100 , 100\n",
    "pos_embedding = torch.randn(batch,max_len, encoding_dim)\n",
    "pos_encoding = PositionalEncoding(encoding_dim, max_len,'cpu')\n",
    "pos = pos_encoding(torch.zeros((batch, max_len)))\n"
   ]
  },
  {
   "cell_type": "code",
   "execution_count": 15,
   "id": "32c3f892",
   "metadata": {
    "execution": {
     "iopub.execute_input": "2023-05-05T21:03:29.445890Z",
     "iopub.status.busy": "2023-05-05T21:03:29.445623Z",
     "iopub.status.idle": "2023-05-05T21:03:29.764580Z",
     "shell.execute_reply": "2023-05-05T21:03:29.763414Z"
    },
    "papermill": {
     "duration": 0.334853,
     "end_time": "2023-05-05T21:03:29.767038",
     "exception": false,
     "start_time": "2023-05-05T21:03:29.432185",
     "status": "completed"
    },
    "tags": []
   },
   "outputs": [
    {
     "data": {
      "image/png": "[encoded data removed]",
      "text/plain": [
       "<Figure size 600x600 with 2 Axes>"
      ]
     },
     "metadata": {},
     "output_type": "display_data"
    }
   ],
   "source": [
    "fig , axe = plt.subplots(1 , 1 , figsize=(6,6))\n",
    "axe.set_title(\"Positional Encoding + Embedding input\")\n",
    "axe.set_xlabel(\"Key\")\n",
    "axe.set_ylabel(\"Query\")\n",
    "im =axe.imshow(pos, cmap=\"Blues\",interpolation=\"nearest\")\n",
    "divider = make_axes_locatable(axe)\n",
    "cax = divider.append_axes(\"right\", size=\"4%\", pad=0.2)\n",
    "cbar = plt.colorbar(im, cax=cax)\n",
    "fig.canvas.draw()\n",
    "fig.suptitle(\"Positional Embedding to Feed into Encoder and Decoder\")\n",
    "\n",
    "plt.show()\n"
   ]
  },
  {
   "cell_type": "markdown",
   "id": "7b69f8b4",
   "metadata": {
    "papermill": {
     "duration": 0.013166,
     "end_time": "2023-05-05T21:03:29.794096",
     "exception": false,
     "start_time": "2023-05-05T21:03:29.780930",
     "status": "completed"
    },
    "tags": []
   },
   "source": [
    "<div style=\"background-color: #f5f5f5; padding: 10px; border-radius: 5px;\">\n",
    "    <div class=\"card mt-3\">\n",
    "        <div class=\"card-body\">\n",
    "            <h2 class=\"card-title text-center mb-4\">Residual connections </h2>\n",
    "            <p>We already saw residual connections when talking about convolutional language models. Residual connections are very simple (add a block's input to its output), but at the same time very useful. You can smooth out the gradient flow through the network and stack many layers.\n",
    "\n",
    "In Transformer, residual connections ((residual connections)) are used after each attention() and FFN block. In the picture above, the residuals are indicated by arrows coming around the block for the yellow \"Add & Norm\" layer. In the \"Add & Norm\" section, the \"Add\" section represents the residual connection</p>\n",
    "            <center><img src=\"https://wikidocs.net/images/page/178172/Fig_09_03.png\" title=\"Attention(Q,K,V)=softmax(QKT/sqrt(d_k))V\" style=\"background-color:gray; padding: 10px; border-radius: 5px;\" width=\"400\" height=\"200\"/></center>\n",
    "        </div>\n",
    "    </div>\n",
    "</div>"
   ]
  },
  {
   "cell_type": "code",
   "execution_count": 16,
   "id": "f570cde2",
   "metadata": {
    "execution": {
     "iopub.execute_input": "2023-05-05T21:03:29.821669Z",
     "iopub.status.busy": "2023-05-05T21:03:29.821365Z",
     "iopub.status.idle": "2023-05-05T21:03:29.827289Z",
     "shell.execute_reply": "2023-05-05T21:03:29.826168Z"
    },
    "papermill": {
     "duration": 0.0224,
     "end_time": "2023-05-05T21:03:29.829693",
     "exception": false,
     "start_time": "2023-05-05T21:03:29.807293",
     "status": "completed"
    },
    "tags": []
   },
   "outputs": [],
   "source": [
    "class ResidualCennection(nn.Module):\n",
    "    def __init__(self,x, residual):\n",
    "        super(ResidualCennection,self).__init__()\n",
    "        self.pass_trough = x\n",
    "        self.addtion = residual\n",
    "    def forward(self,*args, **kwargs):\n",
    "        x = self.pass_trough\n",
    "        return x + self.addtion"
   ]
  },
  {
   "cell_type": "markdown",
   "id": "529cc0cc",
   "metadata": {
    "papermill": {
     "duration": 0.013019,
     "end_time": "2023-05-05T21:03:29.855626",
     "exception": false,
     "start_time": "2023-05-05T21:03:29.842607",
     "status": "completed"
    },
    "tags": []
   },
   "source": [
    "<div style=\"background-color: #f5f5f5; padding: 10px; border-radius: 5px;\">\n",
    "    <div class=\"card mt-3\">\n",
    "        <div class=\"card-body\">\n",
    "            <h2 class=\"card-title text-center mb-4\">Positionwise Feed Forward</h2>\n",
    "            <p>In addition to attention, each layer has a feedforward network block. There is a ReLU nonlinearity between the two linear layers. After looking at other tokens via the attention mechanism, the model processes this new information using the FFN block (attention - \"gathers information by looking at other tokens\",FFN \"Take time to think and process this information\")</p>\n",
    "            <center><img src=\"https://wikidocs.net/images/page/178172/Fig_09_02.png\" title=\"Attention(Q,K,V)=softmax(QKT/sqrt(d_k))V\" style=\"background-color:gray; padding: 10px; border-radius: 5px;\" width=\"400\" height=\"200\"/>\n",
    "                $$FFN(x) = \\max(0, xW_1+b_1)W_2+b_2.$$\n",
    "            </center>\n",
    "        </div>\n",
    "    </div>\n",
    "</div>"
   ]
  },
  {
   "cell_type": "markdown",
   "id": "8fbd0116",
   "metadata": {
    "papermill": {
     "duration": 0.013002,
     "end_time": "2023-05-05T21:03:29.882214",
     "exception": false,
     "start_time": "2023-05-05T21:03:29.869212",
     "status": "completed"
    },
    "tags": []
   },
   "source": []
  },
  {
   "cell_type": "code",
   "execution_count": 17,
   "id": "2d9a89e4",
   "metadata": {
    "execution": {
     "iopub.execute_input": "2023-05-05T21:03:29.910235Z",
     "iopub.status.busy": "2023-05-05T21:03:29.909939Z",
     "iopub.status.idle": "2023-05-05T21:03:29.917070Z",
     "shell.execute_reply": "2023-05-05T21:03:29.916147Z"
    },
    "papermill": {
     "duration": 0.023875,
     "end_time": "2023-05-05T21:03:29.919401",
     "exception": false,
     "start_time": "2023-05-05T21:03:29.895526",
     "status": "completed"
    },
    "tags": []
   },
   "outputs": [],
   "source": [
    "class FeedForwrdNetwork(nn.Module):\n",
    "    def __init__(self,embed_size , hidden_size , dropout_pro=0.1):\n",
    "        super(FeedForwrdNetwork,self).__init__()\n",
    "        self.Linear_1= nn.Linear(embed_size,hidden_size)\n",
    "        self.Linear_2= nn.Linear(hidden_size,embed_size)\n",
    "        self.act = nn.ReLU()\n",
    "        self.dropout = nn.Dropout(p=dropout_pro)\n",
    "    def forward(self,x):\n",
    "        x = self.Linear_1(x)\n",
    "        x = self.act(x)\n",
    "        x = self.Linear_2(x)\n",
    "        x = self.dropout(x)\n",
    "        return x"
   ]
  },
  {
   "cell_type": "markdown",
   "id": "a2ed7549",
   "metadata": {
    "papermill": {
     "duration": 0.013306,
     "end_time": "2023-05-05T21:03:29.946285",
     "exception": false,
     "start_time": "2023-05-05T21:03:29.932979",
     "status": "completed"
    },
    "tags": []
   },
   "source": [
    "<div style=\"background-color: #f5f5f5; padding: 10px; border-radius: 5px;\">\n",
    "    <div class=\"card mt-3\">\n",
    "        <div class=\"card-body\">\n",
    "            <h2 class=\"card-title text-center mb-4\">Layer Normalization</h2>\n",
    "            <p>The \"Norm\" part of the \"Add & Norm\" layer Layer Normalization represents . Normalize the vector representation of each example collectively and independently. This is done to control the \"flow/flow\" to the next layer. Layer normalization improves convergence stability and sometimes quality.\n",
    "In Transformer, we need to normalize the vector representation of each token. Also here LayerNorm is a learnable parameter that is used after normalization to rescale the layer's output (or the next layer's input).\n",
    "and There is. and is evaluated for each example, but and is the same. This is a layer parameter. </p>\n",
    "            <center><img src=\"https://github.com/hyunwoongko/transformer/raw/master/image/layer_norm.jpg\" title=\"Attention(Q,K,V)=softmax(QKT/sqrt(d_k))V\" style=\"background-color:gray; padding: 10px; border-radius: 5px;\" width=\"500\" height=\"300\"/></center>\n",
    "        </div>\n",
    "    </div>\n",
    "</div>"
   ]
  },
  {
   "cell_type": "code",
   "execution_count": 18,
   "id": "299c0ee3",
   "metadata": {
    "execution": {
     "iopub.execute_input": "2023-05-05T21:03:29.973760Z",
     "iopub.status.busy": "2023-05-05T21:03:29.973491Z",
     "iopub.status.idle": "2023-05-05T21:03:29.979980Z",
     "shell.execute_reply": "2023-05-05T21:03:29.979003Z"
    },
    "papermill": {
     "duration": 0.022763,
     "end_time": "2023-05-05T21:03:29.982156",
     "exception": false,
     "start_time": "2023-05-05T21:03:29.959393",
     "status": "completed"
    },
    "tags": []
   },
   "outputs": [],
   "source": [
    "class NormLayer(nn.Module):\n",
    "    def __init__(self,embed_size , eps=1e-12):\n",
    "        super(NormLayar, self).__init__()\n",
    "        self.embed_size = embed_size\n",
    "        self.gamma = nn.Parameter(torch.ones(embed_size))\n",
    "        self.beta = nn.Parameter(torch.zeros(embed_size))\n",
    "        self.eps = eps\n",
    "    def forward(self,x):\n",
    "        mean = x.mean(-1, keepdims= True)\n",
    "        var = x.var(-1 , unbiased=False , keepdims= True)\n",
    "        out = ( x - mean ) / torch.sqrt(var + self.eps)\n",
    "        out = self.gamma * out + self.beta"
   ]
  },
  {
   "cell_type": "raw",
   "id": "e18072c1",
   "metadata": {
    "papermill": {
     "duration": 0.013077,
     "end_time": "2023-05-05T21:03:30.008259",
     "exception": false,
     "start_time": "2023-05-05T21:03:29.995182",
     "status": "completed"
    },
    "tags": []
   },
   "source": [
    "<div style=\"background-color: #f5f5f5; padding: 10px; border-radius: 5px;\">\n",
    "    <div class=\"card mt-3\">\n",
    "        <div class=\"card-body\">\n",
    "            <h2 class=\"card-title text-center mb-4\"> Numpy Version Transfomers</h2>\n",
    "            <p>Now that you understand the main model components and the general idea, let's take a look at how to build the Full Transfomers model by combining all the componentes al once using Numpy</p>\n",
    "        </div>\n",
    "    </div>\n",
    "</div>"
   ]
  },
  {
   "cell_type": "markdown",
   "id": "9e972220",
   "metadata": {
    "papermill": {
     "duration": 0.013051,
     "end_time": "2023-05-05T21:03:30.034079",
     "exception": false,
     "start_time": "2023-05-05T21:03:30.021028",
     "status": "completed"
    },
    "tags": []
   },
   "source": [
    "<div style=\"background-color: #f5f5f5; padding: 10px; border-radius: 5px;\">\n",
    "    <div class=\"card mt-3\">\n",
    "        <div class=\"card-body\">\n",
    "            <h2 class=\"card-title text-center mb-4\"> Final Stage put all the pieces together to build Transfomers</h2>\n",
    "            <p>Now that you understand the main model components and the general idea, let's take a look at how to build the Full Transfomers model by combining all the componentes al once .\n",
    "\n",
    "Let's take a closer look at the other model components. :</p>\n",
    "            <center><img src=\"https://caisplusplus.usc.edu/images/curriculum/neural-network-flavors/transformers/transformer.png\" title=\"Attention(Q,K,V)=softmax(QKT/sqrt(d_k))V\" style=\"background-color:gray; padding: 10px; border-radius: 5px;\" width=\"400\" height=\"300\"/>\n",
    "            </center>\n",
    "            <strong>Notation : </strong><p> in Next section we will cover other building FULL componemts in TRANSFIMERS</p>\n",
    "        </div>\n",
    "    </div>\n",
    "</div>"
   ]
  },
  {
   "cell_type": "code",
   "execution_count": 19,
   "id": "add93dd0",
   "metadata": {
    "execution": {
     "iopub.execute_input": "2023-05-05T21:03:30.061925Z",
     "iopub.status.busy": "2023-05-05T21:03:30.061640Z",
     "iopub.status.idle": "2023-05-05T21:03:30.067088Z",
     "shell.execute_reply": "2023-05-05T21:03:30.066051Z"
    },
    "papermill": {
     "duration": 0.021955,
     "end_time": "2023-05-05T21:03:30.069349",
     "exception": false,
     "start_time": "2023-05-05T21:03:30.047394",
     "status": "completed"
    },
    "tags": []
   },
   "outputs": [],
   "source": [
    "def NormLayar(Z):\n",
    "    mean = Z.mean(axis=-1 , keepdims=True)\n",
    "    var = Z.var(axis=-1 , keepdims = True)\n",
    "    return ((Z - mean) / np.sqrt(var)) + eps\n",
    "\n",
    "def ReLU(Z):\n",
    "    return np.maximum(Z,0)"
   ]
  },
  {
   "cell_type": "code",
   "execution_count": 20,
   "id": "1eae02ac",
   "metadata": {
    "execution": {
     "iopub.execute_input": "2023-05-05T21:03:30.096810Z",
     "iopub.status.busy": "2023-05-05T21:03:30.096550Z",
     "iopub.status.idle": "2023-05-05T21:03:30.102735Z",
     "shell.execute_reply": "2023-05-05T21:03:30.101850Z"
    },
    "papermill": {
     "duration": 0.022471,
     "end_time": "2023-05-05T21:03:30.104984",
     "exception": false,
     "start_time": "2023-05-05T21:03:30.082513",
     "status": "completed"
    },
    "tags": []
   },
   "outputs": [],
   "source": [
    "## intialize the input \n",
    "batch,lenght_sequnece , embedding_size = 1,100 , 64 \n",
    "number_heads = 2\n",
    "# now we will stand out with single Attetion heads \n",
    "input_embedding = torch.randn(batch,lenght_sequnece, embedding_size)\n",
    "## intialzie the Mask \n",
    "Mask = torch.triu(-float(\"inf\")*torch.ones(lenght_sequnece,lenght_sequnece),1)       \n"
   ]
  },
  {
   "cell_type": "code",
   "execution_count": 21,
   "id": "82ab192e",
   "metadata": {
    "execution": {
     "iopub.execute_input": "2023-05-05T21:03:30.132903Z",
     "iopub.status.busy": "2023-05-05T21:03:30.132002Z",
     "iopub.status.idle": "2023-05-05T21:03:30.154279Z",
     "shell.execute_reply": "2023-05-05T21:03:30.153168Z"
    },
    "papermill": {
     "duration": 0.038714,
     "end_time": "2023-05-05T21:03:30.156524",
     "exception": false,
     "start_time": "2023-05-05T21:03:30.117810",
     "status": "completed"
    },
    "tags": []
   },
   "outputs": [
    {
     "data": {
      "text/plain": [
       "torch.Size([1, 100, 64])"
      ]
     },
     "execution_count": 21,
     "metadata": {},
     "output_type": "execute_result"
    }
   ],
   "source": [
    "transEncoder = nn.TransformerEncoderLayer(embedding_size,number_heads,dim_feedforward=64,dropout=0.0,batch_first=True)\n",
    "output = transEncoder(input_embedding,Mask)\n",
    "output.shape"
   ]
  },
  {
   "cell_type": "code",
   "execution_count": 22,
   "id": "b021ad79",
   "metadata": {
    "execution": {
     "iopub.execute_input": "2023-05-05T21:03:30.188632Z",
     "iopub.status.busy": "2023-05-05T21:03:30.188287Z",
     "iopub.status.idle": "2023-05-05T21:03:30.195613Z",
     "shell.execute_reply": "2023-05-05T21:03:30.194411Z"
    },
    "papermill": {
     "duration": 0.026606,
     "end_time": "2023-05-05T21:03:30.198030",
     "exception": false,
     "start_time": "2023-05-05T21:03:30.171424",
     "status": "completed"
    },
    "tags": []
   },
   "outputs": [],
   "source": [
    "## let's build first Transfomer Encode\n",
    "def TransfomerEncoder(embed_input,mask ,\n",
    "                      head, Wieghts_QKY , \n",
    "                      Wieghts_out ,FullyLinear1, \n",
    "                      FullLinear2 , eps):\n",
    "    input_embedding = embed_input.numpy()\n",
    "    multiHeads , _ = multiHeads_Attention(input_embedding,\n",
    "                                     Wieghts_QKY.detach().numpy().T,\n",
    "                                     head,\n",
    "                                     Wieghts_out.detach().numpy().T,  \n",
    "                                     mask=None)\n",
    "    Residual = NormLayar((input_embedding + multiHeads) + eps )\n",
    "    \n",
    "    output = NormLayar((Residual + ReLU(np.matmul(Residual,FullyLinear1))@FullLinear2) + eps)\n",
    "    return output"
   ]
  },
  {
   "cell_type": "code",
   "execution_count": 23,
   "id": "d4825742",
   "metadata": {
    "execution": {
     "iopub.execute_input": "2023-05-05T21:03:30.226524Z",
     "iopub.status.busy": "2023-05-05T21:03:30.225673Z",
     "iopub.status.idle": "2023-05-05T21:03:30.237655Z",
     "shell.execute_reply": "2023-05-05T21:03:30.236392Z"
    },
    "papermill": {
     "duration": 0.029539,
     "end_time": "2023-05-05T21:03:30.241272",
     "exception": false,
     "start_time": "2023-05-05T21:03:30.211733",
     "status": "completed"
    },
    "tags": []
   },
   "outputs": [
    {
     "data": {
      "text/plain": [
       "(1, 100, 64)"
      ]
     },
     "execution_count": 23,
     "metadata": {},
     "output_type": "execute_result"
    }
   ],
   "source": [
    "WieghtMatrix = transEncoder.self_attn.in_proj_weight\n",
    "out_Wieght = transEncoder.self_attn.out_proj.weight\n",
    "Liearn1 = transEncoder.linear1.weight\n",
    "Linear2 = transEncoder.linear2.weight\n",
    "eps=1e-12\n",
    "output_ = TransfomerEncoder(input_embedding,Mask ,\n",
    "                      number_heads, WieghtMatrix , \n",
    "                      out_Wieght ,Liearn1.detach().numpy().T, \n",
    "                      Linear2.detach().numpy().T , eps)\n",
    "output_.shape"
   ]
  },
  {
   "cell_type": "code",
   "execution_count": 24,
   "id": "d99eccc1",
   "metadata": {
    "execution": {
     "iopub.execute_input": "2023-05-05T21:03:30.309598Z",
     "iopub.status.busy": "2023-05-05T21:03:30.309329Z",
     "iopub.status.idle": "2023-05-05T21:03:30.324385Z",
     "shell.execute_reply": "2023-05-05T21:03:30.322859Z"
    },
    "papermill": {
     "duration": 0.053767,
     "end_time": "2023-05-05T21:03:30.328445",
     "exception": false,
     "start_time": "2023-05-05T21:03:30.274678",
     "status": "completed"
    },
    "tags": []
   },
   "outputs": [
    {
     "data": {
      "text/plain": [
       "10.422704"
      ]
     },
     "execution_count": 24,
     "metadata": {},
     "output_type": "execute_result"
    }
   ],
   "source": [
    "# compare between TransfomerEncoerLayae Torch and Our \n",
    "np.linalg.norm(output_ - output.detach().numpy())"
   ]
  },
  {
   "cell_type": "code",
   "execution_count": 25,
   "id": "90cab464",
   "metadata": {
    "execution": {
     "iopub.execute_input": "2023-05-05T21:03:30.379560Z",
     "iopub.status.busy": "2023-05-05T21:03:30.379284Z",
     "iopub.status.idle": "2023-05-05T21:03:30.384662Z",
     "shell.execute_reply": "2023-05-05T21:03:30.383466Z"
    },
    "papermill": {
     "duration": 0.022262,
     "end_time": "2023-05-05T21:03:30.386756",
     "exception": false,
     "start_time": "2023-05-05T21:03:30.364494",
     "status": "completed"
    },
    "tags": []
   },
   "outputs": [],
   "source": [
    "memory = torch.triu(-float(\"inf\")*torch.ones(lenght_sequnece,embedding_size),1).unsqueeze(1).transpose(1,0)"
   ]
  },
  {
   "cell_type": "code",
   "execution_count": 26,
   "id": "a52f3524",
   "metadata": {
    "execution": {
     "iopub.execute_input": "2023-05-05T21:03:30.415963Z",
     "iopub.status.busy": "2023-05-05T21:03:30.415063Z",
     "iopub.status.idle": "2023-05-05T21:03:30.421593Z",
     "shell.execute_reply": "2023-05-05T21:03:30.420727Z"
    },
    "papermill": {
     "duration": 0.023018,
     "end_time": "2023-05-05T21:03:30.423617",
     "exception": false,
     "start_time": "2023-05-05T21:03:30.400599",
     "status": "completed"
    },
    "tags": []
   },
   "outputs": [
    {
     "data": {
      "text/plain": [
       "torch.Size([1, 100, 64])"
      ]
     },
     "execution_count": 26,
     "metadata": {},
     "output_type": "execute_result"
    }
   ],
   "source": [
    "memory.shape"
   ]
  },
  {
   "cell_type": "code",
   "execution_count": 27,
   "id": "65af14aa",
   "metadata": {
    "execution": {
     "iopub.execute_input": "2023-05-05T21:03:30.452686Z",
     "iopub.status.busy": "2023-05-05T21:03:30.451808Z",
     "iopub.status.idle": "2023-05-05T21:03:30.469611Z",
     "shell.execute_reply": "2023-05-05T21:03:30.468581Z"
    },
    "papermill": {
     "duration": 0.034323,
     "end_time": "2023-05-05T21:03:30.471767",
     "exception": false,
     "start_time": "2023-05-05T21:03:30.437444",
     "status": "completed"
    },
    "tags": []
   },
   "outputs": [
    {
     "data": {
      "text/plain": [
       "torch.Size([1, 100, 64])"
      ]
     },
     "execution_count": 27,
     "metadata": {},
     "output_type": "execute_result"
    }
   ],
   "source": [
    "transDecoder = nn.TransformerDecoderLayer(embedding_size ,number_heads , dim_feedforward=128 , batch_first=True)\n",
    "output_decoder = transDecoder(input_embedding,memory)\n",
    "output_decoder.shape"
   ]
  },
  {
   "cell_type": "code",
   "execution_count": 28,
   "id": "871420d9",
   "metadata": {
    "execution": {
     "iopub.execute_input": "2023-05-05T21:03:30.499769Z",
     "iopub.status.busy": "2023-05-05T21:03:30.499506Z",
     "iopub.status.idle": "2023-05-05T21:03:30.504208Z",
     "shell.execute_reply": "2023-05-05T21:03:30.503052Z"
    },
    "papermill": {
     "duration": 0.020959,
     "end_time": "2023-05-05T21:03:30.506164",
     "exception": false,
     "start_time": "2023-05-05T21:03:30.485205",
     "status": "completed"
    },
    "tags": []
   },
   "outputs": [],
   "source": [
    "WieghtMatrix = transDecoder.self_attn.in_proj_weight\n",
    "out_Wieght = transDecoder.self_attn.out_proj.weight\n",
    "Liearn1 = transDecoder.linear1.weight\n",
    "Linear2 = transDecoder.linear2.weight"
   ]
  },
  {
   "cell_type": "code",
   "execution_count": 29,
   "id": "efa527f8",
   "metadata": {
    "execution": {
     "iopub.execute_input": "2023-05-05T21:03:30.534565Z",
     "iopub.status.busy": "2023-05-05T21:03:30.534303Z",
     "iopub.status.idle": "2023-05-05T21:03:30.542472Z",
     "shell.execute_reply": "2023-05-05T21:03:30.541493Z"
    },
    "papermill": {
     "duration": 0.024979,
     "end_time": "2023-05-05T21:03:30.544748",
     "exception": false,
     "start_time": "2023-05-05T21:03:30.519769",
     "status": "completed"
    },
    "tags": []
   },
   "outputs": [],
   "source": [
    "def TransfomerDecoder(embed_input,mask ,\n",
    "                      head, Wieghts_QKY , \n",
    "                      Wieghts_out ,FullyLinear1, \n",
    "                      FullLinear2 , eps,enc=None):\n",
    "    input_embedding = embed_input.numpy()\n",
    "    multiHeads , _ = multiHeads_Attention(input_embedding,\n",
    "                                     Wieghts_QKY.detach().numpy().T,\n",
    "                                     head,\n",
    "                                     Wieghts_out.detach().numpy().T,  \n",
    "                                     mask=None)\n",
    "    Residual = NormLayar((input_embedding + multiHeads) + eps )\n",
    "    \n",
    "    if enc is not None:\n",
    "        Query , key  = np.split(enc , 2 , axis=-1)\n",
    "        enc_ = np.concatenate((Query[:,:,:16] , key[:,:,:16]  ,Residual[:,:,:32] ), axis = -1)\n",
    "        MaskedMUltiHeads ,_= multiHeads_Attention(enc_,\n",
    "                                         Wieghts_QKY.detach().numpy().T,\n",
    "                                         head,\n",
    "                                         Wieghts_out.detach().numpy().T,  \n",
    "                                         mask=mask.numpy())\n",
    "        Residual = NormLayar((enc + MaskedMUltiHeads) + eps )\n",
    "    \n",
    "    output = NormLayar((Residual + ReLU(np.matmul(Residual,FullyLinear1))@FullLinear2) + eps)\n",
    "    return output"
   ]
  },
  {
   "cell_type": "code",
   "execution_count": 30,
   "id": "a92963dc",
   "metadata": {
    "execution": {
     "iopub.execute_input": "2023-05-05T21:03:30.574242Z",
     "iopub.status.busy": "2023-05-05T21:03:30.573947Z",
     "iopub.status.idle": "2023-05-05T21:03:30.585948Z",
     "shell.execute_reply": "2023-05-05T21:03:30.584632Z"
    },
    "papermill": {
     "duration": 0.034583,
     "end_time": "2023-05-05T21:03:30.593004",
     "exception": false,
     "start_time": "2023-05-05T21:03:30.558421",
     "status": "completed"
    },
    "tags": []
   },
   "outputs": [
    {
     "data": {
      "text/plain": [
       "(1, 100, 64)"
      ]
     },
     "execution_count": 30,
     "metadata": {},
     "output_type": "execute_result"
    }
   ],
   "source": [
    "output_decoder_ = TransfomerDecoder(input_embedding,Mask ,\n",
    "                      number_heads, WieghtMatrix , \n",
    "                      out_Wieght ,Liearn1.detach().numpy().T, \n",
    "                      Linear2.detach().numpy().T ,eps,enc=output_)\n",
    "output_decoder_.shape"
   ]
  },
  {
   "cell_type": "code",
   "execution_count": 31,
   "id": "80326e1f",
   "metadata": {
    "execution": {
     "iopub.execute_input": "2023-05-05T21:03:30.665830Z",
     "iopub.status.busy": "2023-05-05T21:03:30.665350Z",
     "iopub.status.idle": "2023-05-05T21:03:30.679261Z",
     "shell.execute_reply": "2023-05-05T21:03:30.677813Z"
    },
    "papermill": {
     "duration": 0.055803,
     "end_time": "2023-05-05T21:03:30.685052",
     "exception": false,
     "start_time": "2023-05-05T21:03:30.629249",
     "status": "completed"
    },
    "tags": []
   },
   "outputs": [
    {
     "data": {
      "text/plain": [
       "nan"
      ]
     },
     "execution_count": 31,
     "metadata": {},
     "output_type": "execute_result"
    }
   ],
   "source": [
    "np.linalg.norm(output_decoder_ - output_decoder.detach().numpy())"
   ]
  },
  {
   "cell_type": "code",
   "execution_count": 32,
   "id": "26a928aa",
   "metadata": {
    "execution": {
     "iopub.execute_input": "2023-05-05T21:03:30.733254Z",
     "iopub.status.busy": "2023-05-05T21:03:30.732954Z",
     "iopub.status.idle": "2023-05-05T21:03:30.742427Z",
     "shell.execute_reply": "2023-05-05T21:03:30.741509Z"
    },
    "papermill": {
     "duration": 0.026748,
     "end_time": "2023-05-05T21:03:30.744747",
     "exception": false,
     "start_time": "2023-05-05T21:03:30.717999",
     "status": "completed"
    },
    "tags": []
   },
   "outputs": [],
   "source": [
    "class Transformer:\n",
    "    def __init__(self, embedding_size , heads):\n",
    "        super(Transformer,self).__init__()\n",
    "        \n",
    "        \"\"\"\n",
    "        Blocks models\n",
    "        -------------\n",
    "        encoder : is used without the Mask at this stage \n",
    "        Decoder : include the Mask and with trick to split the Qurey and Key \n",
    "        \n",
    "        Parametes :\n",
    "        Wieghst_QKY_Encoder : is Leanrble wieght matrix feed into Encoder\n",
    "        Wieghst_QKY_Decoder : is Leanrble wieght matrix feed into ncoder\n",
    "        embed_size : is mebeding_size dimession of input \n",
    "        Seq_len : max lenght of vacolublaries \n",
    "        Linear_1 : Linear Denes layar of Deooder\n",
    "        Linear_2 : Linear Denes layar of Deooder after include the ooutput from Encoder\n",
    "        Linear_encoder : Linear Denes layar of Enooder\n",
    "        \"\"\"\n",
    "    \n",
    "        self.embed_input = embedding_size\n",
    "        self.heads = heads \n",
    "        self.eps = 1e-12\n",
    "        self.W_QKY_Encoder = transEncoder.self_attn.in_proj_weight\n",
    "        self.W_Out_Encoder = transEncoder.self_attn.out_proj.weight\n",
    "        self.W_QKY_Decoder = transDecoder.self_attn.in_proj_weight\n",
    "        self.W_Out_Decoder = transDecoder.self_attn.out_proj.weight\n",
    "        self.Linear1_Encoder = transEncoder.linear1.weight\n",
    "        self.Linear2_Encoder = transEncoder.linear2.weight\n",
    "        self.Linear1_Decoder = transDecoder.linear1.weight\n",
    "        self.Linear2_Decoder = transDecoder.linear2.weight\n",
    "    \n",
    "    def forward(self, enc_ , dec_, mask):\n",
    "        Encoder_= TransfomerEncoder(enc_ ,None ,\n",
    "                  self.heads, self.W_QKY_Encoder , \n",
    "                  self.W_Out_Encoder ,self.Linear1_Encoder.detach().numpy().T, \n",
    "                  self.Linear2_Encoder.detach().numpy().T , self.eps)\n",
    "\n",
    "        Decoder_ = TransfomerDecoder(dec_, mask ,\n",
    "                  self.heads, self.W_QKY_Decoder , \n",
    "                  self.W_Out_Decoder , self.Linear1_Decoder.detach().numpy().T, \n",
    "                  self.Linear2_Decoder.detach().numpy().T ,self.eps,enc=Encoder_)\n",
    "\n",
    "        return Decoder_\n",
    "\n",
    "        "
   ]
  },
  {
   "cell_type": "code",
   "execution_count": 33,
   "id": "88860257",
   "metadata": {
    "execution": {
     "iopub.execute_input": "2023-05-05T21:03:30.774033Z",
     "iopub.status.busy": "2023-05-05T21:03:30.773757Z",
     "iopub.status.idle": "2023-05-05T21:03:30.787263Z",
     "shell.execute_reply": "2023-05-05T21:03:30.785923Z"
    },
    "papermill": {
     "duration": 0.030816,
     "end_time": "2023-05-05T21:03:30.789487",
     "exception": false,
     "start_time": "2023-05-05T21:03:30.758671",
     "status": "completed"
    },
    "tags": []
   },
   "outputs": [
    {
     "data": {
      "text/plain": [
       "(1, 100, 64)"
      ]
     },
     "execution_count": 33,
     "metadata": {},
     "output_type": "execute_result"
    }
   ],
   "source": [
    "## intialize the input \n",
    "batch,lenght_sequnece , embedding_size = 1,100 , 64 \n",
    "heads = 2\n",
    "# now we will stand out with single Attetion heads \n",
    "input_embedding = torch.randn(batch,lenght_sequnece, embedding_size)\n",
    "## intialzie the Mask \n",
    "Mask = torch.triu(-float(\"inf\")*torch.ones(lenght_sequnece,lenght_sequnece),1)       \n",
    "\n",
    "Trans = Transformer(embedding_size,heads)\n",
    "output=Trans.forward(input_embedding,input_embedding,Mask)\n",
    "output.shape"
   ]
  },
  {
   "cell_type": "markdown",
   "id": "47cd68db",
   "metadata": {
    "papermill": {
     "duration": 0.035771,
     "end_time": "2023-05-05T21:03:30.860744",
     "exception": false,
     "start_time": "2023-05-05T21:03:30.824973",
     "status": "completed"
    },
    "tags": []
   },
   "source": [
    "<div style=\"background-color: #f5f5f5; padding: 10px; border-radius: 5px;\">\n",
    "    <div class=\"card mt-3\">\n",
    "        <div class=\"card-body\">\n",
    "            <h2 class=\"card-title text-center mb-4\"> Torch Version Transfomers</h2>\n",
    "            <p>Now that you built Numpy version from Scratch, in DL actually we will use Pytorch and we wil do training of the model Translation , now let us build Transfomers , only we do is Combine the componentes of Transfomers we built Already  </p>\n",
    "        </div>\n",
    "    </div>\n",
    "</div>"
   ]
  },
  {
   "cell_type": "markdown",
   "id": "d5f1d503",
   "metadata": {
    "papermill": {
     "duration": 0.025388,
     "end_time": "2023-05-05T21:03:30.922101",
     "exception": false,
     "start_time": "2023-05-05T21:03:30.896713",
     "status": "completed"
    },
    "tags": []
   },
   "source": [
    "<div style=\"background-color: #f5f5f5; padding: 10px; border-radius: 5px;\">\n",
    "    <div class=\"card mt-3\">\n",
    "        <div class=\"card-body\">\n",
    "            <h2 class=\"card-title text-center mb-4\"> Final Stage put all the pieces together to build Transfomers</h2>\n",
    "            <p>Now that you understand the main model components and the general idea, let's take a look at how to build the Full Transfomers model by combining all the componentes al once .\n",
    "\n",
    "Let's take a closer look at the other model components. :</p>\n",
    "            <center><img src=\"https://caisplusplus.usc.edu/images/curriculum/neural-network-flavors/transformers/transformer.png\" title=\"Attention(Q,K,V)=softmax(QKT/sqrt(d_k))V\" style=\"background-color:gray; padding: 10px; border-radius: 5px;\" width=\"400\" height=\"300\"/>\n",
    "            </center>\n",
    "            <strong>Notation : </strong><p> in Next section we will cover other building FULL componemts in TRANSFIMERS</p>\n",
    "        </div>\n",
    "    </div>\n",
    "</div>"
   ]
  },
  {
   "cell_type": "code",
   "execution_count": 34,
   "id": "254a7991",
   "metadata": {
    "execution": {
     "iopub.execute_input": "2023-05-05T21:03:30.951796Z",
     "iopub.status.busy": "2023-05-05T21:03:30.951500Z",
     "iopub.status.idle": "2023-05-05T21:03:30.958617Z",
     "shell.execute_reply": "2023-05-05T21:03:30.957461Z"
    },
    "papermill": {
     "duration": 0.024432,
     "end_time": "2023-05-05T21:03:30.960779",
     "exception": false,
     "start_time": "2023-05-05T21:03:30.936347",
     "status": "completed"
    },
    "tags": []
   },
   "outputs": [],
   "source": [
    "class ScaleProduct(nn.Module):\n",
    "    def __init__(self):\n",
    "        super(ScaleProduct, self).__init__()\n",
    "        self.Softmax = nn.Softmax(dim=-1)\n",
    "    def forward(self,query , key , value , mask = None , eps = 1e-12):\n",
    "        batch , heads , seq_len , embed_size = key.size()\n",
    "        # product query , key \n",
    "        key_t = key.transpose(2,3)\n",
    "        dot_product = (query@key_t) / torch.sqrt(embed_size)\n",
    "        \n",
    "        if mask is not None: \n",
    "            Score = dot_product.masked_fill(mask == 0,-10000)\n",
    "        \n",
    "        compute_similarty = self.Softmax(Score)\n",
    "        \n",
    "        value = compute_similarty @ self.value\n",
    "        \n",
    "        return value , Score \n",
    "        "
   ]
  },
  {
   "cell_type": "code",
   "execution_count": 35,
   "id": "b1c3d0e5",
   "metadata": {
    "execution": {
     "iopub.execute_input": "2023-05-05T21:03:30.991005Z",
     "iopub.status.busy": "2023-05-05T21:03:30.990083Z",
     "iopub.status.idle": "2023-05-05T21:03:31.000373Z",
     "shell.execute_reply": "2023-05-05T21:03:30.999463Z"
    },
    "papermill": {
     "duration": 0.027542,
     "end_time": "2023-05-05T21:03:31.002506",
     "exception": false,
     "start_time": "2023-05-05T21:03:30.974964",
     "status": "completed"
    },
    "tags": []
   },
   "outputs": [],
   "source": [
    "## Let us Build first multi-Heads-Attention\n",
    "\n",
    "class MultiHeadAttention(nn.Module):\n",
    "    def __init__(self,embed_size , heads):\n",
    "        super(MultiHeadAttention,self).__iniy__()\n",
    "        self.heads = heads \n",
    "        self.Query = nn.Linear(embed_size ,embed_size)\n",
    "        self.Key = nn.Linear(embed_size ,embed_size)\n",
    "        self.Value = nn.Linear(embed_size ,embed_size)\n",
    "        self.concat = nn.Linear(embed_size ,embed_size)\n",
    "        self.Scale_product = ScaleProduct()\n",
    "    \n",
    "    def forward(self , query , key , value , mask=None):\n",
    "        query , key , value = self.Query(query),self.Key(key) , self.Value(value)\n",
    "        query_dim , key_dim , value_dim = self.split_dim(query),self.split_dim(key),self.split_dim(value)        \n",
    "        Socore , _ = self.Scale_product(query_dim , key_dim , value_dim , mask = mask)\n",
    "        concating_dim = self.concating(Socore)\n",
    "        out = self.concat(concating_dim)\n",
    "        return out\n",
    "    def split_dim(self , tensor):\n",
    "        \"\"\"\n",
    "        input_dim ==> [batch , seq_len , embed_size]\n",
    "        split into sub-dims ==> [bacth , seq_len , heads , embed_size / numberHeads ]\n",
    "        where : \n",
    "            INTERSTRED DIMES ARE SEQ_LEN AND EMBED_SIZE \n",
    "            WE WILL TARSNSPOSE THEM BETWEEN DIMS \n",
    "        \"\"\"\n",
    "        batch , seq,_len , embed_size = tensor.size()\n",
    "        \n",
    "        tensor = tensor.view(batch,seq_len , heads , embed_size // self.heads).transpose(1,2)\n",
    "        return tensor\n",
    "    \n",
    "    def concating(self, tensor):\n",
    "        bacth , heads , seq_len , embed_size = tensor.size()\n",
    "        tensor = tensor.transpose(2,1).contiguous()\n",
    "        tensor = tensor.reshape(batch , seq_len , heads*embed_size)\n",
    "        return tensor"
   ]
  },
  {
   "cell_type": "code",
   "execution_count": 36,
   "id": "b7c85f27",
   "metadata": {
    "execution": {
     "iopub.execute_input": "2023-05-05T21:03:31.031988Z",
     "iopub.status.busy": "2023-05-05T21:03:31.031202Z",
     "iopub.status.idle": "2023-05-05T21:03:31.037037Z",
     "shell.execute_reply": "2023-05-05T21:03:31.036159Z"
    },
    "papermill": {
     "duration": 0.023188,
     "end_time": "2023-05-05T21:03:31.039443",
     "exception": false,
     "start_time": "2023-05-05T21:03:31.016255",
     "status": "completed"
    },
    "tags": []
   },
   "outputs": [],
   "source": [
    "class Embedding(nn.Module):\n",
    "    def __init__(self,seq_len,embed_size):\n",
    "        super(Embedding,self).__init__()\n",
    "        self.embedding_input= nn.Embedding(seq_len,embed_size)\n",
    "    def forward(self , x ):\n",
    "        x = self.embedding_input(embed_size,seq_len)\n",
    "        return x"
   ]
  },
  {
   "cell_type": "code",
   "execution_count": 37,
   "id": "66ccb79a",
   "metadata": {
    "execution": {
     "iopub.execute_input": "2023-05-05T21:03:31.068936Z",
     "iopub.status.busy": "2023-05-05T21:03:31.068091Z",
     "iopub.status.idle": "2023-05-05T21:03:31.074145Z",
     "shell.execute_reply": "2023-05-05T21:03:31.073160Z"
    },
    "papermill": {
     "duration": 0.023102,
     "end_time": "2023-05-05T21:03:31.076291",
     "exception": false,
     "start_time": "2023-05-05T21:03:31.053189",
     "status": "completed"
    },
    "tags": []
   },
   "outputs": [],
   "source": [
    "class TokenPositional(nn.Module):\n",
    "    def __init(self,embed_size,seq_len,drop_pro ,device):\n",
    "        super(TokenPositional).__init__()\n",
    "        self.Positional = PositionalEncoding(embed_size,seq_len,device)\n",
    "        self.Embeddding = Embedding(seq_len,embed_size)\n",
    "        self.Dropout = nn.Dropout(drop_pro)\n",
    "    def forward(self,x):\n",
    "        emd =  self.Embeddding(x)\n",
    "        posi = self.Positional(x)\n",
    "        return self.Dropout(emd + posi)"
   ]
  },
  {
   "cell_type": "code",
   "execution_count": 38,
   "id": "e069feb6",
   "metadata": {
    "execution": {
     "iopub.execute_input": "2023-05-05T21:03:31.105530Z",
     "iopub.status.busy": "2023-05-05T21:03:31.104807Z",
     "iopub.status.idle": "2023-05-05T21:03:31.112834Z",
     "shell.execute_reply": "2023-05-05T21:03:31.111983Z"
    },
    "papermill": {
     "duration": 0.024706,
     "end_time": "2023-05-05T21:03:31.114994",
     "exception": false,
     "start_time": "2023-05-05T21:03:31.090288",
     "status": "completed"
    },
    "tags": []
   },
   "outputs": [],
   "source": [
    "class EncoderLayer(nn.Module):\n",
    "    def __init__(self, embed_size , heads, hidden_dim , drop_pro):\n",
    "        super(EncoderLayar,self).__init__()\n",
    "        self.MultiHeadAttention = MultiHeadAttention(embed_size , heads)\n",
    "        self.NormLayer1= NormLayer(embed_size)\n",
    "        self.NormLayer2= NormLayer(embed_size)\n",
    "        self.FeedForward = FeedForwrdNetwork(embed_size,hidden_dim)\n",
    "        self.Dropout_1 = nn.Dropout(drop_pro)\n",
    "        self.Dropout_2 = nn.Dropout(drop_pro)\n",
    "\n",
    "    def forward(self, x,mask):\n",
    "        x_ = x\n",
    "        x = self.MultiHeadAttention(query=x , key=x , value=x , mask=mask)\n",
    "        x = self.Dropout_1(x)\n",
    "        x = self.NormLayer1(x  + x_)\n",
    "        x_ = x \n",
    "        x = self.FeedForward(x)\n",
    "        fnn = self.Dropout_2(x)\n",
    "        x = self.NormLayer2(x + x_)\n",
    "        return x      "
   ]
  },
  {
   "cell_type": "code",
   "execution_count": 39,
   "id": "ac4a2e2b",
   "metadata": {
    "execution": {
     "iopub.execute_input": "2023-05-05T21:03:31.143656Z",
     "iopub.status.busy": "2023-05-05T21:03:31.143349Z",
     "iopub.status.idle": "2023-05-05T21:03:31.149761Z",
     "shell.execute_reply": "2023-05-05T21:03:31.148796Z"
    },
    "papermill": {
     "duration": 0.023025,
     "end_time": "2023-05-05T21:03:31.151890",
     "exception": false,
     "start_time": "2023-05-05T21:03:31.128865",
     "status": "completed"
    },
    "tags": []
   },
   "outputs": [],
   "source": [
    "class Encoder(nn.Module):\n",
    "    def __init__(self,embed_size , seq_len , heads , hidden_dim, drop_pro, StackLayers,device):\n",
    "        super(Encoder,self).__init__()\n",
    "        self.InputEmbedding = TokenPositional(embed_size,\n",
    "                                              seq_len,\n",
    "                                              drop_pro, \n",
    "                                              device)\n",
    "        self.EncoderLayer = nn.ModuleList([EncoderLayer(embed_size , heads, hidden_dim , drop_pro) \n",
    "                                          for _ in range(StackLayers)])\n",
    "        \n",
    "    def forward(self ,x , src_mask):\n",
    "        x = self.InputEmbedding(x)\n",
    "        for layer in self.EncoderLayer:\n",
    "            x - layer(x , mask)\n",
    "            return x     "
   ]
  },
  {
   "cell_type": "code",
   "execution_count": 40,
   "id": "5d690186",
   "metadata": {
    "execution": {
     "iopub.execute_input": "2023-05-05T21:03:31.181430Z",
     "iopub.status.busy": "2023-05-05T21:03:31.180893Z",
     "iopub.status.idle": "2023-05-05T21:03:31.185277Z",
     "shell.execute_reply": "2023-05-05T21:03:31.184287Z"
    },
    "papermill": {
     "duration": 0.021269,
     "end_time": "2023-05-05T21:03:31.187374",
     "exception": false,
     "start_time": "2023-05-05T21:03:31.166105",
     "status": "completed"
    },
    "tags": []
   },
   "outputs": [],
   "source": [
    "class DecoderLayer:\n",
    "    pass "
   ]
  },
  {
   "cell_type": "markdown",
   "id": "97ddf193",
   "metadata": {
    "papermill": {
     "duration": 0.0136,
     "end_time": "2023-05-05T21:03:31.214662",
     "exception": false,
     "start_time": "2023-05-05T21:03:31.201062",
     "status": "completed"
    },
    "tags": []
   },
   "source": [
    "<center>\n",
    "    <div class=\"alert alert-danger\" role=\"alert\"> <strong>this notebook still under progress Transfomer in Depth</strong>\n",
    "    </div>\n",
    "<img src=\"https://img.shields.io/badge/Upvote-If%20you%20like%20my%20work-07b3c8?style=for-the-badge&logo=kaggle\">\n",
    "</center>\n"
   ]
  },
  {
   "cell_type": "code",
   "execution_count": null,
   "id": "46631cda",
   "metadata": {
    "papermill": {
     "duration": 0.013536,
     "end_time": "2023-05-05T21:03:31.242322",
     "exception": false,
     "start_time": "2023-05-05T21:03:31.228786",
     "status": "completed"
    },
    "tags": []
   },
   "outputs": [],
   "source": []
  }
 ],
 "metadata": {
  "kernelspec": {
   "display_name": "Python 3",
   "language": "python",
   "name": "python3"
  },
  "language_info": {
   "codemirror_mode": {
    "name": "ipython",
    "version": 3
   },
   "file_extension": ".py",
   "mimetype": "text/x-python",
   "name": "python",
   "nbconvert_exporter": "python",
   "pygments_lexer": "ipython3",
   "version": "3.7.12"
  },
  "papermill": {
   "default_parameters": {},
   "duration": 16.496843,
   "end_time": "2023-05-05T21:03:32.378681",
   "environment_variables": {},
   "exception": null,
   "input_path": "__notebook__.ipynb",
   "output_path": "__notebook__.ipynb",
   "parameters": {},
   "start_time": "2023-05-05T21:03:15.881838",
   "version": "2.4.0"
  }
 },
 "nbformat": 4,
 "nbformat_minor": 5
}
